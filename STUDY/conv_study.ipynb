{
 "cells": [
  {
   "cell_type": "markdown",
   "metadata": {},
   "source": [
    "> conv提特征 向量点积往大收敛 提取的特证逐渐与原图相似"
   ]
  },
  {
   "cell_type": "code",
   "execution_count": 1,
   "metadata": {},
   "outputs": [
    {
     "name": "stdout",
     "output_type": "stream",
     "text": [
      "Parameter containing:\n",
      "tensor([[[[-0.3321, -0.1891,  0.1154],\n",
      "          [ 0.2970,  0.2722,  0.1685],\n",
      "          [ 0.0735, -0.1254, -0.1498]]]], requires_grad=True)\n",
      "torch.Size([9, 3, 3, 3])\n"
     ]
    }
   ],
   "source": [
    "# demo\n",
    "import torch\n",
    "import torch.nn as nn\n",
    "import torch.nn.functional as F\n",
    "in_channels = 1\n",
    "out_channels = 1\n",
    "kernel_size = 3 #传入元组 卷积核可以为矩形\n",
    "batch_size = 2\n",
    "bias = False\n",
    "input_size = [batch_size, in_channels, 4, 4]\n",
    "# 实例化类 首字母大写\n",
    "conv_layer_test = torch.nn.Conv2d(3, 9, kernel_size, bias=bias)\n",
    "# padding = sample\n",
    "conv_layer = torch.nn.Conv2d(1, 1, kernel_size, bias=bias)\n",
    "print(conv_layer.weight)\n",
    "x = torch.randn(input_size)\n",
    "x = F.dropout(x)\n",
    "x = conv_layer(x)\n",
    "print(conv_layer_test.weight.shape)\n",
    "\n",
    "# print(x)"
   ]
  },
  {
   "cell_type": "markdown",
   "metadata": {},
   "source": [
    "> 函数实现"
   ]
  },
  {
   "cell_type": "code",
   "execution_count": 2,
   "metadata": {},
   "outputs": [],
   "source": [
    "# 用原始的矩阵运算实现二维卷积,先不考虑batchsize维度和channel维数\n",
    "def matrix_multiplication_for_conv2d(input, kernel, stride=1):\n",
    "    input_h, input_w = input.shape\n",
    "\n",
    "    return"
   ]
  }
 ],
 "metadata": {
  "kernelspec": {
   "display_name": "yolov10",
   "language": "python",
   "name": "python3"
  },
  "language_info": {
   "codemirror_mode": {
    "name": "ipython",
    "version": 3
   },
   "file_extension": ".py",
   "mimetype": "text/x-python",
   "name": "python",
   "nbconvert_exporter": "python",
   "pygments_lexer": "ipython3",
   "version": "3.9.19"
  }
 },
 "nbformat": 4,
 "nbformat_minor": 2
}
