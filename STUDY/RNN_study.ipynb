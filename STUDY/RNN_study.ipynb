{
 "cells": [
  {
   "cell_type": "code",
   "execution_count": 47,
   "metadata": {},
   "outputs": [
    {
     "name": "stdout",
     "output_type": "stream",
     "text": [
      "tensor([[[ 0.3982,  0.4844,  0.8871],\n",
      "         [ 0.2332, -0.9083,  0.9175]]], grad_fn=<TransposeBackward1>)\n",
      "tensor([[[ 0.2332, -0.9083,  0.9175]]], grad_fn=<StackBackward0>)\n"
     ]
    }
   ],
   "source": [
    "import torch\n",
    "import torch.nn as nn\n",
    "# 1. 单向.单层RNN\n",
    "single_rnn = nn.RNN(4, 3, 1, batch_first=True)\n",
    "input = torch.randn(1, 2, 4)# bs*sl*fs\n",
    "out, h_n = single_rnn(input)\n",
    "print(out)\n",
    "print(h_n)"
   ]
  },
  {
   "cell_type": "code",
   "execution_count": 48,
   "metadata": {},
   "outputs": [
    {
     "name": "stdout",
     "output_type": "stream",
     "text": [
      "torch.Size([1, 2, 6])\n",
      "torch.Size([2, 1, 3])\n"
     ]
    }
   ],
   "source": [
    "# 2. 双向.单层RNN\n",
    "bidirectional_rnn = nn.RNN(4, 3, 1, batch_first=True, bidirectional=True)\n",
    "out, h_n = bidirectional_rnn(input)\n",
    "print(out.shape)\n",
    "print(h_n.shape)"
   ]
  },
  {
   "cell_type": "markdown",
   "metadata": {},
   "source": [
    "> 手动实现"
   ]
  },
  {
   "cell_type": "code",
   "execution_count": 49,
   "metadata": {},
   "outputs": [
    {
     "name": "stdout",
     "output_type": "stream",
     "text": [
      "torch.Size([2, 3, 2])\n",
      "torch.Size([2, 3, 3])\n",
      "torch.Size([1, 2, 3])\n"
     ]
    }
   ],
   "source": [
    "bs, T = 2, 3 # 批大小，输入序列长度\n",
    "input_size, hidden_size = 2, 3 # 输入特征大小， 隐藏层特征大小\n",
    "input = torch.randn(bs, T, input_size) # 随机生成一个输入特征序列\n",
    "h_prev = torch.zeros(bs, hidden_size) # 生成初始隐含状态\n",
    "single_rnn = nn.RNN(input_size, hidden_size, 1, batch_first=True)\n",
    "out, h_n = single_rnn(input, h_prev.unsqueeze(0))\n",
    "print(input.shape)\n",
    "print(out.shape)\n",
    "print(h_n.shape)\n",
    "def rnn_forward(input, weight_ih, weight_hh, bais_ih, bias_hh, h_prev):\n",
    "    bs, T, input_size = input.shape\n",
    "    h_dim = weight_ih.shape[0]\n",
    "    \n",
    "    pass"
   ]
  }
 ],
 "metadata": {
  "kernelspec": {
   "display_name": "yolov10",
   "language": "python",
   "name": "python3"
  },
  "language_info": {
   "codemirror_mode": {
    "name": "ipython",
    "version": 3
   },
   "file_extension": ".py",
   "mimetype": "text/x-python",
   "name": "python",
   "nbconvert_exporter": "python",
   "pygments_lexer": "ipython3",
   "version": "3.9.19"
  }
 },
 "nbformat": 4,
 "nbformat_minor": 2
}
