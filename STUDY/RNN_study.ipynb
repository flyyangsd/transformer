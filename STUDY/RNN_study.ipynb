{
 "cells": [
  {
   "cell_type": "code",
   "execution_count": 113,
   "metadata": {},
   "outputs": [
    {
     "name": "stdout",
     "output_type": "stream",
     "text": [
      "tensor([[[ 0.3175,  0.8780, -0.4405],\n",
      "         [ 0.6312,  0.7685, -0.2676]]], grad_fn=<TransposeBackward1>)\n",
      "tensor([[[ 0.6312,  0.7685, -0.2676]]], grad_fn=<StackBackward0>)\n"
     ]
    }
   ],
   "source": [
    "import torch\n",
    "import torch.nn as nn\n",
    "# 1. 单向.单层RNN\n",
    "single_rnn = nn.RNN(4, 3, 1, batch_first=True)\n",
    "input = torch.randn(1, 2, 4)# bs*sl*fs\n",
    "out, h_n = single_rnn(input)\n",
    "print(out)\n",
    "print(h_n)"
   ]
  },
  {
   "cell_type": "code",
   "execution_count": 114,
   "metadata": {},
   "outputs": [
    {
     "name": "stdout",
     "output_type": "stream",
     "text": [
      "torch.Size([1, 2, 6])\n",
      "torch.Size([2, 1, 3])\n"
     ]
    }
   ],
   "source": [
    "# 2. 双向.单层RNN\n",
    "bidirectional_rnn = nn.RNN(4, 3, 1, batch_first=True, bidirectional=True)\n",
    "out, h_n = bidirectional_rnn(input)\n",
    "print(out.shape)\n",
    "print(h_n.shape)"
   ]
  },
  {
   "cell_type": "markdown",
   "metadata": {},
   "source": [
    "> 手动实现"
   ]
  },
  {
   "cell_type": "code",
   "execution_count": 115,
   "metadata": {},
   "outputs": [
    {
     "name": "stdout",
     "output_type": "stream",
     "text": [
      "torch.Size([2, 3, 2])\n",
      "torch.Size([2, 3, 3])\n",
      "torch.Size([1, 2, 3])\n",
      "tensor([[[ 1.1546,  1.0514],\n",
      "         [-0.6826,  1.3194],\n",
      "         [-0.8859, -1.3638]],\n",
      "\n",
      "        [[-0.8608, -0.4654],\n",
      "         [ 0.8120,  0.0963],\n",
      "         [ 1.5826,  0.1573]]])\n",
      "tensor([[[ 0.8473,  0.5355,  0.7361],\n",
      "         [ 0.2560,  0.8046,  0.5974],\n",
      "         [ 0.1232,  0.6261, -0.3266]],\n",
      "\n",
      "        [[ 0.2388,  0.2577, -0.3195],\n",
      "         [ 0.6503,  0.6086,  0.3659],\n",
      "         [ 0.7836,  0.8212,  0.6717]]], grad_fn=<TransposeBackward1>)\n",
      "tensor([[[ 0.1232,  0.6261, -0.3266],\n",
      "         [ 0.7836,  0.8212,  0.6717]]], grad_fn=<StackBackward0>)\n"
     ]
    }
   ],
   "source": [
    "bs, T = 2, 3 # 批大小，输入序列长度\n",
    "input_size, hidden_size = 2, 3 # 输入特征大小， 隐藏层特征大小\n",
    "input = torch.randn(bs, T, input_size) # 随机生成一个输入特征序列\n",
    "h_prev = torch.zeros(bs, hidden_size) # 生成初始隐含状态\n",
    "single_rnn = nn.RNN(input_size, hidden_size, 1, batch_first=True)\n",
    "out, h_n = single_rnn(input, h_prev.unsqueeze(0))\n",
    "print(input.shape)\n",
    "print(out.shape)\n",
    "print(h_n.shape)\n",
    "print(input)\n",
    "print(out)\n",
    "print(h_n)\n",
    "def rnn_forward(input, weight_ih, weight_hh, bias_ih, bias_hh, h_prev):\n",
    "    bs, T, input_size = input.shape\n",
    "    h_dim = weight_ih.shape[0]\n",
    "    h_out = torch.zeros(bs, T, h_dim)\n",
    "    for t in range(T):\n",
    "        x = input[: , t, :].unsqueeze(2) # 获取当前时刻的输入特征， bs*input_size\n",
    "        w_ih_batch = weight_ih.unsqueeze(0).tile(bs,1,1) # bs*h_dim*input_size\n",
    "        w_hh_batch = weight_hh.unsqueeze(0).tile(bs,1,1) # bs*h_dim*h_dim\n",
    "        w_times_x = torch.bmm(w_ih_batch, x).squeeze(-1) # bs*h_dim\n",
    "        w_times_h = torch.bmm(w_hh_batch, h_prev.unsqueeze(2)).squeeze(-1)\n",
    "        h_prev = torch.tanh(w_times_x+bias_ih+w_times_h+bias_hh)\n",
    "        h_out[:, t, :] = h_prev\n",
    "    return h_out, h_prev.unsqueeze(0)"
   ]
  },
  {
   "cell_type": "markdown",
   "metadata": {},
   "source": [
    ">验证"
   ]
  },
  {
   "cell_type": "code",
   "execution_count": 116,
   "metadata": {},
   "outputs": [
    {
     "name": "stdout",
     "output_type": "stream",
     "text": [
      "weight_ih_l0 Parameter containing:\n",
      "tensor([[0.4097, 0.1169],\n",
      "        [0.0927, 0.0973],\n",
      "        [0.2856, 0.4599]], requires_grad=True)\n",
      "weight_hh_l0 Parameter containing:\n",
      "tensor([[-0.5181, -0.0384,  0.2663],\n",
      "        [ 0.4099,  0.5517,  0.0204],\n",
      "        [-0.2913,  0.4488,  0.2106]], requires_grad=True)\n",
      "bias_ih_l0 Parameter containing:\n",
      "tensor([ 0.4424,  0.1487, -0.2498], requires_grad=True)\n",
      "bias_hh_l0 Parameter containing:\n",
      "tensor([0.2082, 0.2400, 0.3785], requires_grad=True)\n"
     ]
    },
    {
     "data": {
      "text/plain": [
       "(tensor([[[ 0.8473,  0.5355,  0.7361],\n",
       "          [ 0.2560,  0.8046,  0.5974],\n",
       "          [ 0.1232,  0.6261, -0.3266]],\n",
       " \n",
       "         [[ 0.2388,  0.2577, -0.3195],\n",
       "          [ 0.6503,  0.6086,  0.3659],\n",
       "          [ 0.7836,  0.8212,  0.6717]]], grad_fn=<CopySlices>),\n",
       " tensor([[[ 0.1232,  0.6261, -0.3266],\n",
       "          [ 0.7836,  0.8212,  0.6717]]], grad_fn=<UnsqueezeBackward0>))"
      ]
     },
     "execution_count": 116,
     "metadata": {},
     "output_type": "execute_result"
    }
   ],
   "source": [
    "# 将上面定义的RNN参数拿出来 证明输出一样\n",
    "for k,v in single_rnn.named_parameters():\n",
    "    print(k, v)\n",
    "weight_ih,  weight_hh,bias_ih,  bias_hh = single_rnn.named_parameters()\n",
    "rnn_forward(input, weight_ih[1], weight_hh[1], bias_ih[1], bias_hh[1], h_prev)"
   ]
  }
 ],
 "metadata": {
  "kernelspec": {
   "display_name": "yolov10",
   "language": "python",
   "name": "python3"
  },
  "language_info": {
   "codemirror_mode": {
    "name": "ipython",
    "version": 3
   },
   "file_extension": ".py",
   "mimetype": "text/x-python",
   "name": "python",
   "nbconvert_exporter": "python",
   "pygments_lexer": "ipython3",
   "version": "3.9.19"
  }
 },
 "nbformat": 4,
 "nbformat_minor": 2
}
