{
 "cells": [
  {
   "cell_type": "code",
   "execution_count": 9,
   "metadata": {},
   "outputs": [],
   "source": [
    "import torch\n",
    "import numpy as np\n",
    "import torch.nn as nn\n",
    "import torch.nn.functional as F\n",
    "torch.cuda.is_available()\n",
    "device = torch.device('cuda:0' if torch.cuda.is_available() else 'cpu')\n",
    "# print(\"当前设备名称：\", torch.cuda.get_device_name(device) if device.type == 'cuda' else 'CPU')"
   ]
  },
  {
   "cell_type": "code",
   "execution_count": 10,
   "metadata": {},
   "outputs": [
    {
     "name": "stdout",
     "output_type": "stream",
     "text": [
      "torch.Size([1, 4, 48])\n"
     ]
    },
    {
     "data": {
      "text/plain": [
       "tensor([[[-1.0438,  7.0684, -9.6204,  3.7173,  1.2571, -3.2118, -3.1876,\n",
       "          -4.9695],\n",
       "         [ 4.0230, -0.8190,  1.1376, -7.1348, -4.5142, -1.7035,  1.7193,\n",
       "           6.1254],\n",
       "         [-3.6718,  1.7775, -0.0308,  9.0696,  9.1641,  4.6021, 10.0244,\n",
       "           3.6727],\n",
       "         [ 0.0938,  0.0528, -3.4910,  2.8455, -1.0193,  2.2947, -1.8609,\n",
       "           2.9924]]])"
      ]
     },
     "execution_count": 10,
     "metadata": {},
     "output_type": "execute_result"
    }
   ],
   "source": [
    "def image2emb_naive(image, patch_size, weight):\n",
    "    patch = F.unfold(image,kernel_size=patch_size,stride=patch_size).transpose(-1, -2)\n",
    "    print(patch.shape)\n",
    "    patch_embedding = patch @ weight\n",
    "    return patch_embedding\n",
    "\n",
    "def image2emb_conv():\n",
    "    input = torch.randn(64, 64)\n",
    "\n",
    "    pass\n",
    "# test code for image2emb\n",
    "bs, ic, image_h, image_w = 1, 3, 8, 8\n",
    "patch_size = 4\n",
    "model_dim = 8\n",
    "patch_depth = patch_size*patch_size*ic\n",
    "image = torch.randn(bs, ic, image_h, image_w)\n",
    "weight = torch.randn(patch_depth, model_dim)\n",
    "image2emb_naive(image, patch_size, weight)"
   ]
  }
 ],
 "metadata": {
  "kernelspec": {
   "display_name": "yolov10",
   "language": "python",
   "name": "python3"
  },
  "language_info": {
   "codemirror_mode": {
    "name": "ipython",
    "version": 3
   },
   "file_extension": ".py",
   "mimetype": "text/x-python",
   "name": "python",
   "nbconvert_exporter": "python",
   "pygments_lexer": "ipython3",
   "version": "3.9.19"
  }
 },
 "nbformat": 4,
 "nbformat_minor": 2
}
