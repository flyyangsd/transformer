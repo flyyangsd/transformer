{
 "cells": [
  {
   "cell_type": "code",
   "execution_count": 23,
   "metadata": {},
   "outputs": [],
   "source": [
    "import torch\n",
    "import numpy as np\n",
    "import torch.nn as nn\n",
    "import torch.nn.functional as F\n",
    "torch.cuda.is_available()\n",
    "device = torch.device('cuda:0' if torch.cuda.is_available() else 'cpu')\n",
    "# print(\"当前设备名称：\", torch.cuda.get_device_name(device) if device.type == 'cuda' else 'CPU')"
   ]
  },
  {
   "cell_type": "code",
   "execution_count": 24,
   "metadata": {},
   "outputs": [
    {
     "name": "stdout",
     "output_type": "stream",
     "text": [
      "torch.Size([1, 4, 48])\n",
      "torch.Size([1, 4, 8])\n",
      "tensor([[[-0.4444, -4.6532, -2.6227, -1.7000,  4.5345, -9.6457,  4.0828,\n",
      "           0.3978],\n",
      "         [ 8.5625,  5.2395,  5.9464,  2.4052,  7.3283,  5.2267,  5.6835,\n",
      "           4.3923],\n",
      "         [-2.9234, -0.9579,  3.0794, -1.8254, -5.7193,  5.1306,  6.5024,\n",
      "          11.6948],\n",
      "         [ 1.9704,  3.1219, -4.9349, -4.3023,  0.7116,  0.6098, 10.4769,\n",
      "           0.2529]]])\n",
      "torch.Size([1, 4, 8])\n",
      "tensor([[[-0.4444, -4.6532, -2.6227, -1.7000,  4.5345, -9.6457,  4.0828,\n",
      "           0.3978],\n",
      "         [ 8.5625,  5.2395,  5.9464,  2.4052,  7.3283,  5.2267,  5.6835,\n",
      "           4.3923],\n",
      "         [-2.9234, -0.9579,  3.0794, -1.8254, -5.7193,  5.1306,  6.5024,\n",
      "          11.6948],\n",
      "         [ 1.9704,  3.1219, -4.9349, -4.3023,  0.7116,  0.6098, 10.4769,\n",
      "           0.2529]]])\n"
     ]
    },
    {
     "data": {
      "text/plain": [
       "True"
      ]
     },
     "execution_count": 24,
     "metadata": {},
     "output_type": "execute_result"
    }
   ],
   "source": [
    "def image2emb_naive(image, patch_size, weight):\n",
    "    patch = F.unfold(image,kernel_size=patch_size,stride=patch_size).transpose(-1, -2)\n",
    "    print(patch.shape)\n",
    "    patch_embedding = patch @ weight\n",
    "    return patch_embedding\n",
    "# 通过卷积实现\n",
    "def image2emb_conv(image, kernel, stride):\n",
    "    # kernel训练中更新参数 \n",
    "    # oc*ic*kh*kw\n",
    "    conv_output = F.conv2d(image, kernel, stride=stride)\n",
    "    ba, oc, oh, ow = conv_output.shape\n",
    "    patch_embedding = conv_output.reshape((ba, oc, oh*ow)).transpose(-1,-2)\n",
    "    return patch_embedding\n",
    "# test code for image2emb\n",
    "bs, ic, image_h, image_w = 1, 3, 8, 8\n",
    "patch_size = 4\n",
    "model_dim = 8\n",
    "patch_depth = patch_size*patch_size*ic\n",
    "image = torch.randn(bs, ic, image_h, image_w)\n",
    "weight = torch.randn(patch_depth, model_dim)\n",
    "patch_embedding_naive = image2emb_naive(image, patch_size, weight)\n",
    "print(patch_embedding_naive.size())\n",
    "print(patch_embedding_naive)\n",
    "##################################\n",
    "kernel = weight.transpose(0, 1).reshape((model_dim, ic, patch_size, patch_size))\n",
    "patch_embedding_conv = image2emb_conv(image, kernel, patch_size)\n",
    "print(patch_embedding_conv.size())\n",
    "print(patch_embedding_conv)\n",
    "torch.allclose(patch_embedding_naive, patch_embedding_conv)"
   ]
  },
  {
   "cell_type": "code",
   "execution_count": null,
   "metadata": {},
   "outputs": [],
   "source": [
    "# step2 prepend CLS token embedding"
   ]
  }
 ],
 "metadata": {
  "kernelspec": {
   "display_name": "yolov10",
   "language": "python",
   "name": "python3"
  },
  "language_info": {
   "codemirror_mode": {
    "name": "ipython",
    "version": 3
   },
   "file_extension": ".py",
   "mimetype": "text/x-python",
   "name": "python",
   "nbconvert_exporter": "python",
   "pygments_lexer": "ipython3",
   "version": "3.9.19"
  }
 },
 "nbformat": 4,
 "nbformat_minor": 2
}
