{
 "cells": [
  {
   "cell_type": "code",
   "execution_count": 29,
   "metadata": {},
   "outputs": [],
   "source": [
    "import torch\n",
    "import numpy as np\n",
    "import torch.nn as nn\n",
    "import torch.nn.functional as F\n",
    "import matplotlib.pyplot as plt\n",
    "torch.cuda.is_available()\n",
    "device = torch.device('cuda:0' if torch.cuda.is_available() else 'cpu')\n",
    "# print(\"当前设备名称：\", torch.cuda.get_device_name(device) if device.type == 'cuda' else 'CPU')"
   ]
  },
  {
   "cell_type": "code",
   "execution_count": 30,
   "metadata": {},
   "outputs": [
    {
     "name": "stdout",
     "output_type": "stream",
     "text": [
      "torch.Size([4, 48])\n",
      "torch.Size([4, 48])\n"
     ]
    },
    {
     "data": {
      "text/plain": [
       "True"
      ]
     },
     "execution_count": 30,
     "metadata": {},
     "output_type": "execute_result"
    },
    {
     "data": {
      "image/png": "[encoded data removed]",
      "text/plain": [
       "<Figure size 640x480 with 1 Axes>"
      ]
     },
     "metadata": {},
     "output_type": "display_data"
    }
   ],
   "source": [
    "def image2emb_naive(image, patch_size, weight):\n",
    "    patch = F.unfold(image,kernel_size=patch_size,stride=patch_size).transpose(-1, -2)\n",
    "    # print(patch.shape)\n",
    "    for i, tensor in enumerate(patch):\n",
    "        print(tensor.shape)\n",
    "        image = tensor.numpy()\n",
    "        # 使用 matplotlib 保存图片\n",
    "        plt.imshow(image)\n",
    "        # plt.axis('off')  # 不显示坐标轴\n",
    "        plt.savefig(str(i)+'image.png', bbox_inches='tight', pad_inches=0)  # 保存图片到当前目录\n",
    "    # print(weight.shape)\n",
    "    patch_embedding = patch @ weight\n",
    "    return patch_embedding\n",
    "# 通过卷积实现\n",
    "def image2emb_conv(image, kernel, stride):\n",
    "    # kernel训练中更新参数 \n",
    "    # oc*ic*kh*kw\n",
    "    conv_output = F.conv2d(image, kernel, stride=stride)\n",
    "    ba, oc, oh, ow = conv_output.shape\n",
    "    patch_embedding = conv_output.reshape((ba, oc, oh*ow)).transpose(-1,-2)\n",
    "    return patch_embedding\n",
    "# test code for image2emb\n",
    "bs, ic, image_h, image_w = 2, 3, 8, 8\n",
    "patch_size = 4\n",
    "model_dim = 8\n",
    "patch_depth = patch_size*patch_size*ic\n",
    "image = torch.randn(bs, ic, image_h, image_w)\n",
    "weight = torch.randn(patch_depth, model_dim)\n",
    "patch_embedding_naive = image2emb_naive(image, patch_size, weight)\n",
    "# print(patch_embedding_naive.size())\n",
    "# print(patch_embedding_naive)\n",
    "##################################\n",
    "kernel = weight.transpose(0, 1).reshape((model_dim, ic, patch_size, patch_size))\n",
    "patch_embedding_conv = image2emb_conv(image, kernel, patch_size)\n",
    "# print(patch_embedding_conv.size())\n",
    "# print(patch_embedding_conv)\n",
    "torch.allclose(patch_embedding_naive, patch_embedding_conv)"
   ]
  },
  {
   "cell_type": "code",
   "execution_count": 31,
   "metadata": {},
   "outputs": [],
   "source": [
    "# step2 prepend CLS token embedding"
   ]
  }
 ],
 "metadata": {
  "kernelspec": {
   "display_name": "yolov10",
   "language": "python",
   "name": "python3"
  },
  "language_info": {
   "codemirror_mode": {
    "name": "ipython",
    "version": 3
   },
   "file_extension": ".py",
   "mimetype": "text/x-python",
   "name": "python",
   "nbconvert_exporter": "python",
   "pygments_lexer": "ipython3",
   "version": "3.9.19"
  }
 },
 "nbformat": 4,
 "nbformat_minor": 2
}
