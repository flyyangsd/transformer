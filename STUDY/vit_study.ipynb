{
 "cells": [
  {
   "cell_type": "code",
   "execution_count": 21,
   "metadata": {},
   "outputs": [],
   "source": [
    "import torch\n",
    "import numpy as np\n",
    "import torch.nn as nn\n",
    "import torch.nn.functional as F\n",
    "torch.cuda.is_available()\n",
    "device = torch.device('cuda:0' if torch.cuda.is_available() else 'cpu')\n",
    "# print(\"当前设备名称：\", torch.cuda.get_device_name(device) if device.type == 'cuda' else 'CPU')"
   ]
  },
  {
   "cell_type": "code",
   "execution_count": 22,
   "metadata": {},
   "outputs": [
    {
     "name": "stdout",
     "output_type": "stream",
     "text": [
      "torch.Size([1, 4, 48])\n",
      "torch.Size([1, 4, 8])\n",
      "tensor([[[  7.4667,  -5.5059,   9.3193,  -0.0413,  -9.4175,   6.5571,   4.1736,\n",
      "            5.8958],\n",
      "         [ -2.7264,  -5.8506,   9.3051,   0.1965,   5.9004,   2.5408,  -2.7052,\n",
      "          -14.4034],\n",
      "         [-11.3469,   0.3776,  -4.8890,  -6.0610,  -3.0947,   8.6485,  -5.2425,\n",
      "            3.1319],\n",
      "         [ 15.7369,  -9.9057,  -6.3652,   7.2953,  -3.1388,   0.9963,  -2.1650,\n",
      "           -4.0748]]])\n",
      "torch.Size([1, 4, 8])\n",
      "tensor([[[  7.4667,  -5.5059,   9.3193,  -0.0413,  -9.4175,   6.5571,   4.1736,\n",
      "            5.8958],\n",
      "         [ -2.7264,  -5.8506,   9.3051,   0.1965,   5.9004,   2.5408,  -2.7052,\n",
      "          -14.4034],\n",
      "         [-11.3469,   0.3776,  -4.8890,  -6.0610,  -3.0947,   8.6485,  -5.2425,\n",
      "            3.1319],\n",
      "         [ 15.7369,  -9.9057,  -6.3652,   7.2953,  -3.1388,   0.9963,  -2.1650,\n",
      "           -4.0748]]])\n"
     ]
    }
   ],
   "source": [
    "def image2emb_naive(image, patch_size, weight):\n",
    "    patch = F.unfold(image,kernel_size=patch_size,stride=patch_size).transpose(-1, -2)\n",
    "    print(patch.shape)\n",
    "    patch_embedding = patch @ weight\n",
    "    return patch_embedding\n",
    "# 通过卷积实现\n",
    "def image2emb_conv(image, kernel, stride):\n",
    "    # kernel训练中更新参数 \n",
    "    # oc*ic*kh*kw\n",
    "    conv_output = F.conv2d(image, kernel, stride=stride)\n",
    "    ba, oc, oh, ow = conv_output.shape\n",
    "    patch_embedding = conv_output.reshape((ba, oc, oh*ow)).transpose(-1,-2)\n",
    "    return patch_embedding\n",
    "# test code for image2emb\n",
    "bs, ic, image_h, image_w = 1, 3, 8, 8\n",
    "patch_size = 4\n",
    "model_dim = 8\n",
    "patch_depth = patch_size*patch_size*ic\n",
    "image = torch.randn(bs, ic, image_h, image_w)\n",
    "weight = torch.randn(patch_depth, model_dim)\n",
    "patch_embedding_naive = image2emb_naive(image, patch_size, weight)\n",
    "print(patch_embedding_naive.size())\n",
    "print(patch_embedding_naive)\n",
    "##################################\n",
    "kernel = weight.transpose(0, 1).reshape((model_dim, ic, patch_size, patch_size))\n",
    "patch_embedding_conv = image2emb_conv(image, kernel, patch_size)\n",
    "print(patch_embedding_conv.size())\n",
    "print(patch_embedding_conv)\n",
    "torch.allclose(patch_embedding_naive, patch_embedding_conv)"
   ]
  }
 ],
 "metadata": {
  "kernelspec": {
   "display_name": "yolov10",
   "language": "python",
   "name": "python3"
  },
  "language_info": {
   "codemirror_mode": {
    "name": "ipython",
    "version": 3
   },
   "file_extension": ".py",
   "mimetype": "text/x-python",
   "name": "python",
   "nbconvert_exporter": "python",
   "pygments_lexer": "ipython3",
   "version": "3.9.19"
  }
 },
 "nbformat": 4,
 "nbformat_minor": 2
}
