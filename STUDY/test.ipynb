{
 "cells": [
  {
   "cell_type": "code",
   "execution_count": 1,
   "metadata": {},
   "outputs": [
    {
     "name": "stdout",
     "output_type": "stream",
     "text": [
      "torch.Size([1, 1, 768])\n"
     ]
    }
   ],
   "source": [
    "import torch\n",
    "import numpy as np\n",
    "import torch.nn as nn\n",
    "import torch.nn.functional as F\n",
    "import matplotlib.pyplot as plt\n",
    "\n",
    "ttt = torch.randint(0, 255, (1, 197, 768))\n",
    "ttt = ttt[:,196:,:]\n",
    "print(ttt.shape)\n",
    "# test1 = ttt.reshape((196, 3, 16, 16))\n",
    "\n",
    "\n",
    "# # 创建一个 14x14 的子图\n",
    "# fig, axs = plt.subplots(14, 14, figsize=(14, 14))\n",
    "\n",
    "# for i in range(14):\n",
    "#     for j in range(14):\n",
    "#         idx = i * 14 + j\n",
    "#         if idx < test1.shape[0]:  # 确保不越界\n",
    "#             sample_output = test1[idx]  # 获取第 idx 个样本的输出\n",
    "#             # 将 tensor 的维度从 (3, 16, 16) 转换为 (16, 16, 3)\n",
    "#             image = sample_output.permute(1, 2, 0).numpy()\n",
    "#             # 显示图像\n",
    "#             axs[i, j].imshow(image)  # 归一化到 [0, 1]\n",
    "#             axs[i, j].axis('off')  # 关闭坐标轴\n",
    "\n",
    "# # 调整布局\n",
    "# plt.tight_layout()\n",
    "\n",
    "# # 保存图像\n",
    "# plt.savefig('output_image.png')\n",
    "# plt.show()"
   ]
  }
 ],
 "metadata": {
  "kernelspec": {
   "display_name": "yolov10",
   "language": "python",
   "name": "python3"
  },
  "language_info": {
   "codemirror_mode": {
    "name": "ipython",
    "version": 3
   },
   "file_extension": ".py",
   "mimetype": "text/x-python",
   "name": "python",
   "nbconvert_exporter": "python",
   "pygments_lexer": "ipython3",
   "version": "3.9.19"
  }
 },
 "nbformat": 4,
 "nbformat_minor": 2
}
